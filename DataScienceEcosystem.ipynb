{
  "metadata": {
    "kernelspec": {
      "name": "python",
      "display_name": "Python (Pyodide)",
      "language": "python"
    },
    "language_info": {
      "codemirror_mode": {
        "name": "python",
        "version": 3
      },
      "file_extension": ".py",
      "mimetype": "text/x-python",
      "name": "python",
      "nbconvert_exporter": "python",
      "pygments_lexer": "ipython3",
      "version": "3.8"
    }
  },
  "nbformat_minor": 5,
  "nbformat": 4,
  "cells": [
    {
      "id": "3b142fee-816f-4779-bfe7-e29f26886f16",
      "cell_type": "markdown",
      "source": "# Data Science Tools and Ecosystem",
      "metadata": {}
    },
    {
      "id": "eddabf56-fae2-4e35-be35-64d4f8924a14",
      "cell_type": "markdown",
      "source": "In this notebook, Data Science Tools and Ecosystem are summarized.",
      "metadata": {}
    },
    {
      "id": "a9b11912-97ac-4839-ad94-16195d2c473a",
      "cell_type": "markdown",
      "source": "Some of the popular languages that Data Scientists use are:\n\n1. **Python** – Widely used for its simplicity, large set of data science libraries, and active community.\n\n2. **R** – Excellent for statistical analysis and data visualization, often used in research and academia.\n\n3. **SQL** – Essential for querying and managing data in relational databases.\n",
      "metadata": {}
    },
    {
      "id": "25818f7b-1e55-4650-914e-dee0e8a1ca68",
      "cell_type": "markdown",
      "source": "Some of the commonly used libraries used by Data Scientists include:\n\n1. **pandas** – Used for data manipulation and analysis, especially for structured data.\n\n2. **NumPy** – Provides support for numerical computing and handling large, multi-dimensional arrays and matrices.\n\n3. **Matplotlib** – A powerful library for creating static, animated, and interactive data visualizations in Python.\n",
      "metadata": {}
    },
    {
      "id": "d2aec7a9-fac0-4908-b38d-b7e213e68561",
      "cell_type": "markdown",
      "source": "| Data Science Tools       |\n|--------------------------|\n| Jupyter Notebook         |\n| RStudio                  |\n| Apache Zeppelin          |\n",
      "metadata": {}
    },
    {
      "id": "99657949-b019-41cb-8235-eb71c182bf75",
      "cell_type": "code",
      "source": "### Below are a few examples of evaluating arithmetic expressions in Python.\n# This is a simple arithmetic expression to multiply then add integers\nresult = (3 * 4) + 5\nresult",
      "metadata": {
        "trusted": true
      },
      "outputs": [
        {
          "execution_count": 2,
          "output_type": "execute_result",
          "data": {
            "text/plain": "17"
          },
          "metadata": {}
        }
      ],
      "execution_count": 2
    },
    {
      "id": "a62b98dc-ec9c-4ffd-8389-042042f74cbe",
      "cell_type": "code",
      "source": "# This will convert 200 minutes to hours by dividing by 60\nminutes = 200\nhours = minutes / 60\nhours",
      "metadata": {
        "trusted": true
      },
      "outputs": [
        {
          "execution_count": 3,
          "output_type": "execute_result",
          "data": {
            "text/plain": "3.3333333333333335"
          },
          "metadata": {}
        }
      ],
      "execution_count": 3
    },
    {
      "id": "ce8b0488-e9c2-4b2b-8cd8-aa144dad4a16",
      "cell_type": "markdown",
      "source": "**Objectives:**\n\n- List popular languages used in Data Science.\n- Understand commonly used libraries in Data Science.\n- Learn about development tools for Data Science.\n- Explore how to evaluate arithmetic expressions in Python.\n- Convert time units (e.g., minutes to hours) using Python.\n",
      "metadata": {}
    },
    {
      "id": "43de807c-6a99-4e28-b3ab-6c97343da46e",
      "cell_type": "markdown",
      "source": "## Author\nSathika Ranathunga\n",
      "metadata": {}
    },
    {
      "id": "1e684872-a0e5-44e2-a31c-fe48261345ba",
      "cell_type": "code",
      "source": "",
      "metadata": {
        "trusted": true
      },
      "outputs": [],
      "execution_count": null
    }
  ]
}